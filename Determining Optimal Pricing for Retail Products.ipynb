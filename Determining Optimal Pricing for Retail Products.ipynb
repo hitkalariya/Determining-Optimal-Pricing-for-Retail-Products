{
 "cells": [
  {
   "cell_type": "markdown",
   "metadata": {},
   "source": [
    "# Import necessary library\n"
   ]
  },
  {
   "cell_type": "code",
   "execution_count": null,
   "metadata": {},
   "outputs": [],
   "source": [
    "import pandas as pd\n",
    "import numpy as np\n",
    "from sklearn.model_selection import train_test_split\n",
    "from sklearn.linear_model import LinearRegression\n",
    "from sklearn.tree import DecisionTreeRegressor\n",
    "from sklearn.metrics import mean_squared_error, mean_absolute_error, r2_score\n",
    "from sklearn.preprocessing import OneHotEncoder\n",
    "from sklearn.compose import ColumnTransformer\n",
    "from sklearn.pipeline import Pipeline\n",
    "from xgboost import XGBRegressor\n",
    "from sklearn.metrics import mean_squared_error, mean_absolute_error, r2_score\n",
    "import tensorflow as tf\n",
    "from tensorflow.keras.models import Sequential\n",
    "from tensorflow.keras.layers import Dense, Dropout\n",
    "from tensorflow.keras.callbacks import EarlyStopping"
   ]
  },
  {
   "cell_type": "markdown",
   "metadata": {},
   "source": [
    "# Data gathering\n"
   ]
  },
  {
   "cell_type": "code",
   "execution_count": null,
   "metadata": {},
   "outputs": [
    {
     "name": "stdout",
     "output_type": "stream",
     "text": [
      "Dataset Info:\n",
      "<class 'pandas.core.frame.DataFrame'>\n",
      "RangeIndex: 676 entries, 0 to 675\n",
      "Data columns (total 30 columns):\n",
      " #   Column                      Non-Null Count  Dtype  \n",
      "---  ------                      --------------  -----  \n",
      " 0   product_id                  676 non-null    object \n",
      " 1   product_category_name       676 non-null    object \n",
      " 2   month_year                  676 non-null    object \n",
      " 3   qty                         676 non-null    int64  \n",
      " 4   total_price                 676 non-null    float64\n",
      " 5   freight_price               676 non-null    float64\n",
      " 6   unit_price                  676 non-null    float64\n",
      " 7   product_name_lenght         676 non-null    int64  \n",
      " 8   product_description_lenght  676 non-null    int64  \n",
      " 9   product_photos_qty          676 non-null    int64  \n",
      " 10  product_weight_g            676 non-null    int64  \n",
      " 11  product_score               676 non-null    float64\n",
      " 12  customers                   676 non-null    int64  \n",
      " 13  weekday                     676 non-null    int64  \n",
      " 14  weekend                     676 non-null    int64  \n",
      " 15  holiday                     676 non-null    int64  \n",
      " 16  month                       676 non-null    int64  \n",
      " 17  year                        676 non-null    int64  \n",
      " 18  s                           676 non-null    float64\n",
      " 19  volume                      676 non-null    int64  \n",
      " 20  comp_1                      676 non-null    float64\n",
      " 21  ps1                         676 non-null    float64\n",
      " 22  fp1                         676 non-null    float64\n",
      " 23  comp_2                      676 non-null    float64\n",
      " 24  ps2                         676 non-null    float64\n",
      " 25  fp2                         676 non-null    float64\n",
      " 26  comp_3                      676 non-null    float64\n",
      " 27  ps3                         676 non-null    float64\n",
      " 28  fp3                         676 non-null    float64\n",
      " 29  lag_price                   676 non-null    float64\n",
      "dtypes: float64(15), int64(12), object(3)\n",
      "memory usage: 158.6+ KB\n",
      "None\n",
      "\n",
      "First Few Rows:\n",
      "  product_id product_category_name  month_year  qty  total_price  \\\n",
      "0       bed1        bed_bath_table  01-05-2017    1        45.95   \n",
      "1       bed1        bed_bath_table  01-06-2017    3       137.85   \n",
      "2       bed1        bed_bath_table  01-07-2017    6       275.70   \n",
      "3       bed1        bed_bath_table  01-08-2017    4       183.80   \n",
      "4       bed1        bed_bath_table  01-09-2017    2        91.90   \n",
      "\n",
      "   freight_price  unit_price  product_name_lenght  product_description_lenght  \\\n",
      "0      15.100000       45.95                   39                         161   \n",
      "1      12.933333       45.95                   39                         161   \n",
      "2      14.840000       45.95                   39                         161   \n",
      "3      14.287500       45.95                   39                         161   \n",
      "4      15.100000       45.95                   39                         161   \n",
      "\n",
      "   product_photos_qty  ...  comp_1  ps1        fp1      comp_2  ps2  \\\n",
      "0                   2  ...    89.9  3.9  15.011897  215.000000  4.4   \n",
      "1                   2  ...    89.9  3.9  14.769216  209.000000  4.4   \n",
      "2                   2  ...    89.9  3.9  13.993833  205.000000  4.4   \n",
      "3                   2  ...    89.9  3.9  14.656757  199.509804  4.4   \n",
      "4                   2  ...    89.9  3.9  18.776522  163.398710  4.4   \n",
      "\n",
      "         fp2  comp_3  ps3        fp3  lag_price  \n",
      "0   8.760000   45.95  4.0  15.100000      45.90  \n",
      "1  21.322000   45.95  4.0  12.933333      45.95  \n",
      "2  22.195932   45.95  4.0  14.840000      45.95  \n",
      "3  19.412885   45.95  4.0  14.287500      45.95  \n",
      "4  24.324687   45.95  4.0  15.100000      45.95  \n",
      "\n",
      "[5 rows x 30 columns]\n",
      "\n",
      "Missing Values:\n",
      "product_id                    0\n",
      "product_category_name         0\n",
      "month_year                    0\n",
      "qty                           0\n",
      "total_price                   0\n",
      "freight_price                 0\n",
      "unit_price                    0\n",
      "product_name_lenght           0\n",
      "product_description_lenght    0\n",
      "product_photos_qty            0\n",
      "product_weight_g              0\n",
      "product_score                 0\n",
      "customers                     0\n",
      "weekday                       0\n",
      "weekend                       0\n",
      "holiday                       0\n",
      "month                         0\n",
      "year                          0\n",
      "s                             0\n",
      "volume                        0\n",
      "comp_1                        0\n",
      "ps1                           0\n",
      "fp1                           0\n",
      "comp_2                        0\n",
      "ps2                           0\n",
      "fp2                           0\n",
      "comp_3                        0\n",
      "ps3                           0\n",
      "fp3                           0\n",
      "lag_price                     0\n",
      "dtype: int64\n",
      "\n",
      "Summary Statistics:\n",
      "              qty   total_price  freight_price  unit_price  \\\n",
      "count  676.000000    676.000000     676.000000  676.000000   \n",
      "mean    14.495562   1422.708728      20.682270  106.496800   \n",
      "std     15.443421   1700.123100      10.081817   76.182972   \n",
      "min      1.000000     19.900000       0.000000   19.900000   \n",
      "25%      4.000000    333.700000      14.761912   53.900000   \n",
      "50%     10.000000    807.890000      17.518472   89.900000   \n",
      "75%     18.000000   1887.322500      22.713558  129.990000   \n",
      "max    122.000000  12095.000000      79.760000  364.000000   \n",
      "\n",
      "       product_name_lenght  product_description_lenght  product_photos_qty  \\\n",
      "count           676.000000                  676.000000          676.000000   \n",
      "mean             48.720414                  767.399408            1.994083   \n",
      "std               9.420715                  655.205015            1.420473   \n",
      "min              29.000000                  100.000000            1.000000   \n",
      "25%              40.000000                  339.000000            1.000000   \n",
      "50%              51.000000                  501.000000            1.500000   \n",
      "75%              57.000000                  903.000000            2.000000   \n",
      "max              60.000000                 3006.000000            8.000000   \n",
      "\n",
      "       product_weight_g  product_score   customers  ...      comp_1  \\\n",
      "count        676.000000     676.000000  676.000000  ...  676.000000   \n",
      "mean        1847.498521       4.085503   81.028107  ...   79.452054   \n",
      "std         2274.808483       0.232021   62.055560  ...   47.933358   \n",
      "min          100.000000       3.300000    1.000000  ...   19.900000   \n",
      "25%          348.000000       3.900000   34.000000  ...   49.910000   \n",
      "50%          950.000000       4.100000   62.000000  ...   69.900000   \n",
      "75%         1850.000000       4.200000  116.000000  ...  104.256549   \n",
      "max         9750.000000       4.500000  339.000000  ...  349.900000   \n",
      "\n",
      "              ps1         fp1      comp_2         ps2         fp2      comp_3  \\\n",
      "count  676.000000  676.000000  676.000000  676.000000  676.000000  676.000000   \n",
      "mean     4.159467   18.597610   92.930079    4.123521   18.620644   84.182642   \n",
      "std      0.121652    9.406537   49.481269    0.207189    6.424174   47.745789   \n",
      "min      3.700000    0.095439   19.900000    3.300000    4.410000   19.900000   \n",
      "25%      4.100000   13.826429   53.900000    4.100000   14.485000   53.785714   \n",
      "50%      4.200000   16.618984   89.990000    4.200000   16.811765   59.900000   \n",
      "75%      4.200000   19.732500  117.888889    4.200000   21.665238   99.990000   \n",
      "max      4.500000   57.230000  349.900000    4.400000   57.230000  255.610000   \n",
      "\n",
      "              ps3         fp3   lag_price  \n",
      "count  676.000000  676.000000  676.000000  \n",
      "mean     4.002071   17.965007  107.399684  \n",
      "std      0.233292    5.533256   76.974657  \n",
      "min      3.500000    7.670000   19.850000  \n",
      "25%      3.900000   15.042727   55.668750  \n",
      "50%      4.000000   16.517110   89.900000  \n",
      "75%      4.100000   19.447778  129.990000  \n",
      "max      4.400000   57.230000  364.000000  \n",
      "\n",
      "[8 rows x 27 columns]\n"
     ]
    }
   ],
   "source": [
    "# Load the dataset\n",
    "file_path = 'retail_price.csv'\n",
    "description_path = 'desciption.txt'\n",
    "\n",
    "# Load data\n",
    "data = pd.read_csv(file_path)"
   ]
  },
  {
   "cell_type": "code",
   "execution_count": null,
   "metadata": {},
   "outputs": [],
   "source": [
    "# Display basic information\n",
    "print(\"Dataset Info:\")\n",
    "print(data.info())\n",
    "\n",
    "# Display the first few rows\n",
    "print(\"\\nFirst Few Rows:\")\n",
    "print(data.head())\n",
    "\n",
    "# Check for missing values\n",
    "print(\"\\nMissing Values:\")\n",
    "print(data.isnull().sum())\n",
    "\n",
    "# Basic statistics\n",
    "print(\"\\nSummary Statistics:\")\n",
    "print(data.describe())"
   ]
  },
  {
   "cell_type": "markdown",
   "metadata": {},
   "source": [
    "# Data Preprocessing"
   ]
  },
  {
   "cell_type": "code",
   "execution_count": null,
   "metadata": {},
   "outputs": [
    {
     "name": "stdout",
     "output_type": "stream",
     "text": [
      "\n",
      "Cleaned Dataset:\n",
      "  product_id product_category_name  qty  total_price  freight_price  \\\n",
      "0       bed1        bed_bath_table    1        45.95      15.100000   \n",
      "1       bed1        bed_bath_table    3       137.85      12.933333   \n",
      "2       bed1        bed_bath_table    6       275.70      14.840000   \n",
      "3       bed1        bed_bath_table    4       183.80      14.287500   \n",
      "4       bed1        bed_bath_table    2        91.90      15.100000   \n",
      "\n",
      "   unit_price  product_name_lenght  product_description_lenght  \\\n",
      "0       45.95                   39                         161   \n",
      "1       45.95                   39                         161   \n",
      "2       45.95                   39                         161   \n",
      "3       45.95                   39                         161   \n",
      "4       45.95                   39                         161   \n",
      "\n",
      "   product_photos_qty  product_weight_g  ...  ps1        fp1      comp_2  ps2  \\\n",
      "0                   2               350  ...  3.9  15.011897  215.000000  4.4   \n",
      "1                   2               350  ...  3.9  14.769216  209.000000  4.4   \n",
      "2                   2               350  ...  3.9  13.993833  205.000000  4.4   \n",
      "3                   2               350  ...  3.9  14.656757  199.509804  4.4   \n",
      "4                   2               350  ...  3.9  18.776522  163.398710  4.4   \n",
      "\n",
      "         fp2  comp_3  ps3        fp3  lag_price  day  \n",
      "0   8.760000   45.95  4.0  15.100000      45.90    1  \n",
      "1  21.322000   45.95  4.0  12.933333      45.95    1  \n",
      "2  22.195932   45.95  4.0  14.840000      45.95    1  \n",
      "3  19.412885   45.95  4.0  14.287500      45.95    1  \n",
      "4  24.324687   45.95  4.0  15.100000      45.95    1  \n",
      "\n",
      "[5 rows x 30 columns]\n",
      "Target variable 'lag_price' is clean.\n",
      "\n",
      "Cleaned data saved to cleaned_retail_price.csv\n"
     ]
    }
   ],
   "source": [
    "# Fill missing values with median for numerical columns\n",
    "num_columns = data.select_dtypes(include=np.number).columns\n",
    "data[num_columns] = data[num_columns].fillna(data[num_columns].median())\n",
    "\n",
    "# Fill missing values with \"Unknown\" for categorical columns\n",
    "cat_columns = data.select_dtypes(include=\"object\").columns\n",
    "data[cat_columns] = data[cat_columns].fillna(\"Unknown\")\n",
    "\n",
    "# Convert 'month_year' to datetime and extract features\n",
    "data['month_year'] = pd.to_datetime(data['month_year'], format='%d-%m-%Y')\n",
    "data['month'] = data['month_year'].dt.month\n",
    "data['year'] = data['month_year'].dt.year\n",
    "data['day'] = data['month_year'].dt.day\n",
    "\n",
    "# 'month_year' is dropped after extracting features as it might be redundant\n",
    "data = data.drop(columns=['month_year'])"
   ]
  },
  {
   "cell_type": "code",
   "execution_count": null,
   "metadata": {},
   "outputs": [],
   "source": [
    "# Check the cleaned dataset\n",
    "print(\"\\nCleaned Dataset:\")\n",
    "print(data.head())\n",
    "\n",
    "# Ensure the target variable is not null\n",
    "if data['lag_price'].isnull().any():\n",
    "    print(\"Warning: Target variable 'lag_price' has missing values!\")\n",
    "else:\n",
    "    print(\"Target variable 'lag_price' is clean.\")\n",
    "\n",
    "# Save the cleaned data for further use\n",
    "cleaned_data_path = 'cleaned_retail_price.csv'\n",
    "data.to_csv(cleaned_data_path, index=False)\n",
    "print(f\"\\nCleaned data saved to {cleaned_data_path}\")"
   ]
  },
  {
   "cell_type": "markdown",
   "metadata": {},
   "source": [
    "# Advanced Feature Engineering\n"
   ]
  },
  {
   "cell_type": "code",
   "execution_count": null,
   "metadata": {},
   "outputs": [
    {
     "name": "stdout",
     "output_type": "stream",
     "text": [
      "\n",
      "Feature-Engineered Dataset:\n",
      "  product_id product_category_name  qty  total_price  freight_price  \\\n",
      "0       bed1        bed_bath_table    1        45.95      15.100000   \n",
      "1       bed1        bed_bath_table    3       137.85      12.933333   \n",
      "2       bed1        bed_bath_table    6       275.70      14.840000   \n",
      "3       bed1        bed_bath_table    4       183.80      14.287500   \n",
      "4       bed1        bed_bath_table    2        91.90      15.100000   \n",
      "\n",
      "   product_name_lenght  product_description_lenght  product_photos_qty  \\\n",
      "0                   39                         161                   2   \n",
      "1                   39                         161                   2   \n",
      "2                   39                         161                   2   \n",
      "3                   39                         161                   2   \n",
      "4                   39                         161                   2   \n",
      "\n",
      "   product_weight_g  product_score  ...  is_weekend  is_holiday  \\\n",
      "0               350            4.0  ...           0           1   \n",
      "1               350            4.0  ...           0           1   \n",
      "2               350            4.0  ...           0           1   \n",
      "3               350            4.0  ...           0           1   \n",
      "4               350            4.0  ...           0           1   \n",
      "\n",
      "   name_desc_ratio  photos_per_unit   log_qty  log_total_price  \\\n",
      "0         0.242236         1.999980  0.693147         3.849083   \n",
      "1         0.242236         0.666664  1.386294         4.933394   \n",
      "2         0.242236         0.333333  1.945910         5.622934   \n",
      "3         0.242236         0.499999  1.609438         5.219274   \n",
      "4         0.242236         0.999995  1.098612         4.531524   \n",
      "\n",
      "   log_freight_price  log_product_weight_g     log_s  log_volume  \n",
      "0           2.778819              5.860786  2.421913    8.243019  \n",
      "1           2.634284              5.860786  2.015318    8.243019  \n",
      "2           2.762538              5.860786  2.570446    8.243019  \n",
      "3           2.727036              5.860786  2.331549    8.243019  \n",
      "4           2.778819              5.860786  1.880313    8.243019  \n",
      "\n",
      "[5 rows x 49 columns]\n",
      "\n",
      "Feature-engineered data saved to feature_engineered_retail_price.csv\n"
     ]
    }
   ],
   "source": [
    "# Interaction Features\n",
    "data['price_per_gram'] = data['unit_price'] / data['product_weight_g']\n",
    "data['freight_per_unit'] = data['freight_price'] / (data['qty'] + 1e-5)\n",
    "\n",
    "# Sales-related Ratios\n",
    "data['price_to_total'] = data['unit_price'] / (data['total_price'] + 1e-5)\n",
    "data['qty_to_weight'] = data['qty'] / (data['product_weight_g'] + 1e-5)\n",
    "\n",
    "# Competitor Comparison\n",
    "data['comp_1_diff'] = data['unit_price'] - data['comp_1']\n",
    "data['comp_2_diff'] = data['unit_price'] - data['comp_2']\n",
    "data['comp_3_diff'] = data['unit_price'] - data['comp_3']\n",
    "\n",
    "# Competitor Scores Weighted by Price\n",
    "data['comp_1_score_weighted'] = data['ps1'] / (data['comp_1'] + 1e-5)\n",
    "data['comp_2_score_weighted'] = data['ps2'] / (data['comp_2'] + 1e-5)\n",
    "data['comp_3_score_weighted'] = data['ps3'] / (data['comp_3'] + 1e-5)\n",
    "\n",
    "# Temporal Features\n",
    "data['is_weekend'] = ((data['weekday'] == 0) & (data['weekend'] > 0)).astype(int)\n",
    "data['is_holiday'] = (data['holiday'] > 0).astype(int)\n",
    "\n",
    "# Product-Specific Features\n",
    "data['name_desc_ratio'] = data['product_name_lenght'] / (data['product_description_lenght'] + 1e-5)\n",
    "data['photos_per_unit'] = data['product_photos_qty'] / (data['qty'] + 1e-5)\n",
    "\n",
    "# Log Transformations for Skewed Features\n",
    "skewed_features = ['qty', 'total_price', 'freight_price', 'product_weight_g', 's', 'volume']\n",
    "for feature in skewed_features:\n",
    "    data[f'log_{feature}'] = np.log1p(data[feature])\n",
    "\n",
    "# Drop Columns with High Collinearity\n",
    "columns_to_drop = ['unit_price']  # Avoid dependency on unit_price\n",
    "data = data.drop(columns=columns_to_drop, errors='ignore')\n",
    "\n",
    "# Check the new features\n",
    "print(\"\\nFeature-Engineered Dataset:\")\n",
    "print(data.head())\n",
    "\n",
    "# Save the feature-engineered dataset\n",
    "feature_engineered_path = 'feature_engineered_retail_price.csv'\n",
    "data.to_csv(feature_engineered_path, index=False)\n",
    "print(f\"\\nFeature-engineered data saved to {feature_engineered_path}\")"
   ]
  },
  {
   "cell_type": "markdown",
   "metadata": {},
   "source": [
    "# Split data into  Train - Test -Validation"
   ]
  },
  {
   "cell_type": "code",
   "execution_count": null,
   "metadata": {},
   "outputs": [
    {
     "name": "stdout",
     "output_type": "stream",
     "text": [
      "Training Data Shape: (405, 48)\n",
      "Validation Data Shape: (135, 48)\n",
      "Test Data Shape: (136, 48)\n",
      "\n",
      "Training data saved to train_data.csv\n",
      "Validation data saved to val_data.csv\n",
      "Test data saved to test_data.csv\n"
     ]
    }
   ],
   "source": [
    "# Separate the target variable and features\n",
    "X = data.drop(columns=['lag_price'])  # Features\n",
    "y = data['lag_price']  # Target\n",
    "\n",
    "# Sort data by year and month to preserve temporal order\n",
    "data = data.sort_values(by=['year', 'month', 'day']).reset_index(drop=True)\n",
    "\n",
    "# Split data into training (60%), validation (20%), and test (20%) sets\n",
    "X_train, X_temp, y_train, y_temp = train_test_split(X, y, test_size=0.4, shuffle=False)\n",
    "X_val, X_test, y_val, y_test = train_test_split(X_temp, y_temp, test_size=0.5, shuffle=False)\n",
    "\n",
    "# Display the shape of the datasets\n",
    "print(\"Training Data Shape:\", X_train.shape)\n",
    "print(\"Validation Data Shape:\", X_val.shape)\n",
    "print(\"Test Data Shape:\", X_test.shape)\n",
    "\n",
    "# Save the splits for reference\n",
    "train_data_path = 'train_data.csv'\n",
    "val_data_path = 'val_data.csv'\n",
    "test_data_path = 'test_data.csv'\n",
    "\n",
    "train_data = pd.concat([X_train, y_train], axis=1)\n",
    "val_data = pd.concat([X_val, y_val], axis=1)\n",
    "test_data = pd.concat([X_test, y_test], axis=1)\n",
    "\n",
    "train_data.to_csv(train_data_path, index=False)\n",
    "val_data.to_csv(val_data_path, index=False)\n",
    "test_data.to_csv(test_data_path, index=False)\n",
    "\n",
    "print(f\"\\nTraining data saved to {train_data_path}\")\n",
    "print(f\"Validation data saved to {val_data_path}\")\n",
    "print(f\"Test data saved to {test_data_path}\")"
   ]
  },
  {
   "cell_type": "code",
   "execution_count": null,
   "metadata": {},
   "outputs": [
    {
     "name": "stdout",
     "output_type": "stream",
     "text": [
      "Categorical Columns: Index(['product_id', 'product_category_name'], dtype='object')\n",
      "\n",
      "Linear Regression Metrics:\n",
      "Train RMSE: 5.1341\n",
      "Validation RMSE: 16.2891\n",
      "Train MAE: 3.1363\n",
      "Validation MAE: 11.9181\n",
      "Train R2: 0.9953\n",
      "Validation R2: 0.8637\n",
      "\n",
      "Decision Tree Regressor Metrics:\n",
      "Train RMSE: 12.1531\n",
      "Validation RMSE: 25.0129\n",
      "Train MAE: 8.4057\n",
      "Validation MAE: 21.6590\n",
      "Train R2: 0.9736\n",
      "Validation R2: 0.6786\n",
      "\n",
      "Linear Regression model saved to lr_model.joblib\n",
      "Decision Tree model saved to dt_model.joblib\n"
     ]
    }
   ],
   "source": [
    "# Identify categorical columns\n",
    "categorical_columns = X.select_dtypes(include=\"object\").columns\n",
    "print(f\"Categorical Columns: {categorical_columns}\")\n",
    "\n",
    "# Handle categorical columns with one-hot encoding\n",
    "onehot_encoder = ColumnTransformer(\n",
    "    transformers=[\n",
    "        (\"cat\", OneHotEncoder(handle_unknown=\"ignore\"), categorical_columns)\n",
    "    ],\n",
    "    remainder=\"passthrough\"  # Keep other columns as is\n",
    ")\n",
    "\n",
    "# Transform the dataset\n",
    "X = onehot_encoder.fit_transform(X)\n",
    "X_train = onehot_encoder.transform(X_train)\n",
    "X_val = onehot_encoder.transform(X_val)\n",
    "X_test = onehot_encoder.transform(X_test)\n",
    "\n",
    "\n",
    "# Function to evaluate models\n",
    "def evaluate_model(model, X_train, y_train, X_val, y_val):\n",
    "    # Training predictions\n",
    "    y_train_pred = model.predict(X_train)\n",
    "    # Validation predictions\n",
    "    y_val_pred = model.predict(X_val)\n",
    "    \n",
    "    # Metrics\n",
    "    metrics = {\n",
    "        \"Train RMSE\": mean_squared_error(y_train, y_train_pred)**0.5,\n",
    "        \"Validation RMSE\": mean_squared_error(y_val, y_val_pred)**0.5,\n",
    "        \"Train MAE\": mean_absolute_error(y_train, y_train_pred),\n",
    "        \"Validation MAE\": mean_absolute_error(y_val, y_val_pred),\n",
    "        \"Train R2\": r2_score(y_train, y_train_pred),\n",
    "        \"Validation R2\": r2_score(y_val, y_val_pred),\n",
    "    }\n",
    "    return metrics\n",
    "\n",
    "# Baseline 1: Linear Regression\n",
    "lr_model = LinearRegression()\n",
    "lr_model.fit(X_train, y_train)\n",
    "lr_metrics = evaluate_model(lr_model, X_train, y_train, X_val, y_val)\n",
    "\n",
    "print(\"\\nLinear Regression Metrics:\")\n",
    "for metric, value in lr_metrics.items():\n",
    "    print(f\"{metric}: {value:.4f}\")\n",
    "\n",
    "# Baseline 2: Decision Tree Regressor\n",
    "dt_model = DecisionTreeRegressor(max_depth=5, random_state=42)\n",
    "dt_model.fit(X_train, y_train)\n",
    "dt_metrics = evaluate_model(dt_model, X_train, y_train, X_val, y_val)\n",
    "\n",
    "print(\"\\nDecision Tree Regressor Metrics:\")\n",
    "for metric, value in dt_metrics.items():\n",
    "    print(f\"{metric}: {value:.4f}\")\n",
    "\n",
    "# Save the models\n",
    "import joblib\n",
    "lr_model_path = 'lr_model.joblib'\n",
    "dt_model_path = 'dt_model.joblib'\n",
    "\n",
    "joblib.dump(lr_model, lr_model_path)\n",
    "joblib.dump(dt_model, dt_model_path)\n",
    "\n",
    "print(f\"\\nLinear Regression model saved to {lr_model_path}\")\n",
    "print(f\"Decision Tree model saved to {dt_model_path}\")\n"
   ]
  },
  {
   "cell_type": "code",
   "execution_count": null,
   "metadata": {},
   "outputs": [
    {
     "name": "stdout",
     "output_type": "stream",
     "text": [
      "\n",
      "XGBoost Regressor Metrics:\n",
      "Train RMSE: 0.5178\n",
      "Validation RMSE: 36.0780\n",
      "Train MAE: 0.3340\n",
      "Validation MAE: 21.0410\n",
      "Train R2: 1.0000\n",
      "Validation R2: 0.3313\n",
      "\n",
      "XGBoost model saved to xgb_model.joblib\n",
      "Epoch 1/100\n"
     ]
    },
    {
     "name": "stderr",
     "output_type": "stream",
     "text": [
      "c:\\Users\\hit k\\anaconda3\\envs\\bia\\lib\\site-packages\\keras\\src\\layers\\core\\dense.py:87: UserWarning: Do not pass an `input_shape`/`input_dim` argument to a layer. When using Sequential models, prefer using an `Input(shape)` object as the first layer in the model instead.\n",
      "  super().__init__(activity_regularizer=activity_regularizer, **kwargs)\n"
     ]
    },
    {
     "name": "stdout",
     "output_type": "stream",
     "text": [
      "\u001b[1m13/13\u001b[0m \u001b[32m━━━━━━━━━━━━━━━━━━━━\u001b[0m\u001b[37m\u001b[0m \u001b[1m1s\u001b[0m 14ms/step - loss: 4859374.0000 - mae: 1375.3608 - val_loss: 33562.9922 - val_mae: 157.1692\n",
      "Epoch 2/100\n",
      "\u001b[1m13/13\u001b[0m \u001b[32m━━━━━━━━━━━━━━━━━━━━\u001b[0m\u001b[37m\u001b[0m \u001b[1m0s\u001b[0m 6ms/step - loss: 579931.3750 - mae: 509.1174 - val_loss: 368331.3750 - val_mae: 551.1143\n",
      "Epoch 3/100\n",
      "\u001b[1m13/13\u001b[0m \u001b[32m━━━━━━━━━━━━━━━━━━━━\u001b[0m\u001b[37m\u001b[0m \u001b[1m0s\u001b[0m 5ms/step - loss: 547555.5625 - mae: 488.9330 - val_loss: 24585.5918 - val_mae: 140.9283\n",
      "Epoch 4/100\n",
      "\u001b[1m13/13\u001b[0m \u001b[32m━━━━━━━━━━━━━━━━━━━━\u001b[0m\u001b[37m\u001b[0m \u001b[1m0s\u001b[0m 5ms/step - loss: 378231.1562 - mae: 367.5016 - val_loss: 5968.9360 - val_mae: 53.9576\n",
      "Epoch 5/100\n",
      "\u001b[1m13/13\u001b[0m \u001b[32m━━━━━━━━━━━━━━━━━━━━\u001b[0m\u001b[37m\u001b[0m \u001b[1m0s\u001b[0m 6ms/step - loss: 329667.0625 - mae: 335.8056 - val_loss: 11902.9219 - val_mae: 90.6196\n",
      "Epoch 6/100\n",
      "\u001b[1m13/13\u001b[0m \u001b[32m━━━━━━━━━━━━━━━━━━━━\u001b[0m\u001b[37m\u001b[0m \u001b[1m0s\u001b[0m 6ms/step - loss: 204466.4375 - mae: 275.4886 - val_loss: 17319.5527 - val_mae: 107.1213\n",
      "Epoch 7/100\n",
      "\u001b[1m13/13\u001b[0m \u001b[32m━━━━━━━━━━━━━━━━━━━━\u001b[0m\u001b[37m\u001b[0m \u001b[1m0s\u001b[0m 6ms/step - loss: 182989.7812 - mae: 267.9963 - val_loss: 3915.0737 - val_mae: 46.0124\n",
      "Epoch 8/100\n",
      "\u001b[1m13/13\u001b[0m \u001b[32m━━━━━━━━━━━━━━━━━━━━\u001b[0m\u001b[37m\u001b[0m \u001b[1m0s\u001b[0m 5ms/step - loss: 143490.5000 - mae: 234.7933 - val_loss: 5204.8218 - val_mae: 54.2571\n",
      "Epoch 9/100\n",
      "\u001b[1m13/13\u001b[0m \u001b[32m━━━━━━━━━━━━━━━━━━━━\u001b[0m\u001b[37m\u001b[0m \u001b[1m0s\u001b[0m 5ms/step - loss: 159295.4844 - mae: 232.1160 - val_loss: 4384.5239 - val_mae: 52.6357\n",
      "Epoch 10/100\n",
      "\u001b[1m13/13\u001b[0m \u001b[32m━━━━━━━━━━━━━━━━━━━━\u001b[0m\u001b[37m\u001b[0m \u001b[1m0s\u001b[0m 5ms/step - loss: 93531.9844 - mae: 184.6967 - val_loss: 4563.9106 - val_mae: 55.1675\n",
      "Epoch 11/100\n",
      "\u001b[1m13/13\u001b[0m \u001b[32m━━━━━━━━━━━━━━━━━━━━\u001b[0m\u001b[37m\u001b[0m \u001b[1m0s\u001b[0m 5ms/step - loss: 98253.4609 - mae: 179.3058 - val_loss: 3877.5142 - val_mae: 49.8223\n",
      "Epoch 12/100\n",
      "\u001b[1m13/13\u001b[0m \u001b[32m━━━━━━━━━━━━━━━━━━━━\u001b[0m\u001b[37m\u001b[0m \u001b[1m0s\u001b[0m 5ms/step - loss: 87605.5781 - mae: 165.9370 - val_loss: 4235.7939 - val_mae: 52.5389\n",
      "Epoch 13/100\n",
      "\u001b[1m13/13\u001b[0m \u001b[32m━━━━━━━━━━━━━━━━━━━━\u001b[0m\u001b[37m\u001b[0m \u001b[1m0s\u001b[0m 6ms/step - loss: 71019.1641 - mae: 170.1623 - val_loss: 4786.2007 - val_mae: 57.0145\n",
      "Epoch 14/100\n",
      "\u001b[1m13/13\u001b[0m \u001b[32m━━━━━━━━━━━━━━━━━━━━\u001b[0m\u001b[37m\u001b[0m \u001b[1m0s\u001b[0m 6ms/step - loss: 43842.1836 - mae: 129.9154 - val_loss: 5016.9775 - val_mae: 57.3163\n",
      "Epoch 15/100\n",
      "\u001b[1m13/13\u001b[0m \u001b[32m━━━━━━━━━━━━━━━━━━━━\u001b[0m\u001b[37m\u001b[0m \u001b[1m0s\u001b[0m 5ms/step - loss: 78616.8516 - mae: 166.3444 - val_loss: 4275.1562 - val_mae: 48.4935\n",
      "Epoch 16/100\n",
      "\u001b[1m13/13\u001b[0m \u001b[32m━━━━━━━━━━━━━━━━━━━━\u001b[0m\u001b[37m\u001b[0m \u001b[1m0s\u001b[0m 5ms/step - loss: 36163.0938 - mae: 121.6819 - val_loss: 3439.7292 - val_mae: 39.3999\n",
      "Epoch 17/100\n",
      "\u001b[1m13/13\u001b[0m \u001b[32m━━━━━━━━━━━━━━━━━━━━\u001b[0m\u001b[37m\u001b[0m \u001b[1m0s\u001b[0m 5ms/step - loss: 44546.5117 - mae: 128.5220 - val_loss: 3885.4060 - val_mae: 46.4978\n",
      "Epoch 18/100\n",
      "\u001b[1m13/13\u001b[0m \u001b[32m━━━━━━━━━━━━━━━━━━━━\u001b[0m\u001b[37m\u001b[0m \u001b[1m0s\u001b[0m 5ms/step - loss: 31159.2246 - mae: 111.9686 - val_loss: 4221.1182 - val_mae: 51.2682\n",
      "Epoch 19/100\n",
      "\u001b[1m13/13\u001b[0m \u001b[32m━━━━━━━━━━━━━━━━━━━━\u001b[0m\u001b[37m\u001b[0m \u001b[1m0s\u001b[0m 6ms/step - loss: 47610.0430 - mae: 129.5108 - val_loss: 6744.0723 - val_mae: 69.1948\n",
      "Epoch 20/100\n",
      "\u001b[1m13/13\u001b[0m \u001b[32m━━━━━━━━━━━━━━━━━━━━\u001b[0m\u001b[37m\u001b[0m \u001b[1m0s\u001b[0m 7ms/step - loss: 31406.1719 - mae: 112.0947 - val_loss: 5858.8306 - val_mae: 62.7966\n",
      "Epoch 21/100\n",
      "\u001b[1m13/13\u001b[0m \u001b[32m━━━━━━━━━━━━━━━━━━━━\u001b[0m\u001b[37m\u001b[0m \u001b[1m0s\u001b[0m 6ms/step - loss: 40796.5156 - mae: 122.3222 - val_loss: 4698.4595 - val_mae: 55.1696\n",
      "Epoch 22/100\n",
      "\u001b[1m13/13\u001b[0m \u001b[32m━━━━━━━━━━━━━━━━━━━━\u001b[0m\u001b[37m\u001b[0m \u001b[1m0s\u001b[0m 5ms/step - loss: 27296.6855 - mae: 102.7392 - val_loss: 4349.0464 - val_mae: 52.9816\n",
      "Epoch 23/100\n",
      "\u001b[1m13/13\u001b[0m \u001b[32m━━━━━━━━━━━━━━━━━━━━\u001b[0m\u001b[37m\u001b[0m \u001b[1m0s\u001b[0m 5ms/step - loss: 32252.9941 - mae: 114.4791 - val_loss: 3980.8542 - val_mae: 50.4022\n",
      "Epoch 24/100\n",
      "\u001b[1m13/13\u001b[0m \u001b[32m━━━━━━━━━━━━━━━━━━━━\u001b[0m\u001b[37m\u001b[0m \u001b[1m0s\u001b[0m 5ms/step - loss: 26311.8242 - mae: 103.4485 - val_loss: 3957.5791 - val_mae: 51.0387\n",
      "Epoch 25/100\n",
      "\u001b[1m13/13\u001b[0m \u001b[32m━━━━━━━━━━━━━━━━━━━━\u001b[0m\u001b[37m\u001b[0m \u001b[1m0s\u001b[0m 5ms/step - loss: 22990.8105 - mae: 102.4668 - val_loss: 3938.6648 - val_mae: 51.5559\n",
      "Epoch 26/100\n",
      "\u001b[1m13/13\u001b[0m \u001b[32m━━━━━━━━━━━━━━━━━━━━\u001b[0m\u001b[37m\u001b[0m \u001b[1m0s\u001b[0m 5ms/step - loss: 17477.0059 - mae: 94.3983 - val_loss: 3794.4624 - val_mae: 50.8602\n",
      "\u001b[1m13/13\u001b[0m \u001b[32m━━━━━━━━━━━━━━━━━━━━\u001b[0m\u001b[37m\u001b[0m \u001b[1m0s\u001b[0m 4ms/step \n",
      "\u001b[1m5/5\u001b[0m \u001b[32m━━━━━━━━━━━━━━━━━━━━\u001b[0m\u001b[37m\u001b[0m \u001b[1m0s\u001b[0m 5ms/step\n"
     ]
    },
    {
     "name": "stderr",
     "output_type": "stream",
     "text": [
      "WARNING:absl:You are saving your model as an HDF5 file via `model.save()` or `keras.saving.save_model(model)`. This file format is considered legacy. We recommend using instead the native Keras format, e.g. `model.save('my_model.keras')` or `keras.saving.save_model(model, 'my_model.keras')`. \n"
     ]
    },
    {
     "name": "stdout",
     "output_type": "stream",
     "text": [
      "\n",
      "Neural Network Metrics:\n",
      "Train RMSE: 81.9448\n",
      "Validation RMSE: 58.6492\n",
      "Train MAE: 51.2997\n",
      "Validation MAE: 39.3999\n",
      "Train R2: -0.2015\n",
      "Validation R2: -0.7672\n",
      "\n",
      "Neural Network model saved to nn_model.h5\n"
     ]
    }
   ],
   "source": [
    "# Function to evaluate models (reuse from Part 5 if needed)\n",
    "def evaluate_model(model, X_train, y_train, X_val, y_val):\n",
    "    y_train_pred = model.predict(X_train)\n",
    "    y_val_pred = model.predict(X_val)\n",
    "    metrics = {\n",
    "        \"Train RMSE\": mean_squared_error(y_train, y_train_pred)**0.5,\n",
    "        \"Validation RMSE\": mean_squared_error(y_val, y_val_pred)**0.5,\n",
    "        \"Train MAE\": mean_absolute_error(y_train, y_train_pred),\n",
    "        \"Validation MAE\": mean_absolute_error(y_val, y_val_pred),\n",
    "        \"Train R2\": r2_score(y_train, y_train_pred),\n",
    "        \"Validation R2\": r2_score(y_val, y_val_pred),\n",
    "    }\n",
    "    return metrics\n",
    "\n",
    "# Advanced Model 1: Gradient Boosting (XGBoost)\n",
    "xgb_model = XGBRegressor(n_estimators=100, max_depth=6, learning_rate=0.1, random_state=42)\n",
    "xgb_model.fit(X_train, y_train)\n",
    "xgb_metrics = evaluate_model(xgb_model, X_train, y_train, X_val, y_val)\n",
    "\n",
    "print(\"\\nXGBoost Regressor Metrics:\")\n",
    "for metric, value in xgb_metrics.items():\n",
    "    print(f\"{metric}: {value:.4f}\")\n",
    "\n",
    "# Save the XGBoost model\n",
    "xgb_model_path = 'xgb_model.joblib'\n",
    "import joblib\n",
    "joblib.dump(xgb_model, xgb_model_path)\n",
    "print(f\"\\nXGBoost model saved to {xgb_model_path}\")\n",
    "\n",
    "# Advanced Model 2: Neural Network\n",
    "# Define the Neural Network architecture\n",
    "nn_model = Sequential([\n",
    "    Dense(64, activation='relu', input_dim=X_train.shape[1]),\n",
    "    Dropout(0.2),\n",
    "    Dense(32, activation='relu'),\n",
    "    Dropout(0.2),\n",
    "    Dense(1)  # Single output for regression\n",
    "])\n",
    "\n",
    "# Compile the model\n",
    "nn_model.compile(optimizer='adam', loss='mse', metrics=['mae'])\n",
    "\n",
    "# Early stopping\n",
    "early_stopping = EarlyStopping(monitor='val_loss', patience=10, restore_best_weights=True)\n",
    "\n",
    "# Train the model\n",
    "nn_model.fit(X_train, y_train, \n",
    "             validation_data=(X_val, y_val),\n",
    "             epochs=100, \n",
    "             batch_size=32,\n",
    "             callbacks=[early_stopping],\n",
    "             verbose=1)\n",
    "\n",
    "# Evaluate the Neural Network\n",
    "y_train_pred_nn = nn_model.predict(X_train)\n",
    "y_val_pred_nn = nn_model.predict(X_val)\n",
    "nn_metrics = {\n",
    "    \"Train RMSE\": mean_squared_error(y_train, y_train_pred_nn)**0.5,\n",
    "    \"Validation RMSE\": mean_squared_error(y_val, y_val_pred_nn)**0.5,\n",
    "    \"Train MAE\": mean_absolute_error(y_train, y_train_pred_nn),\n",
    "    \"Validation MAE\": mean_absolute_error(y_val, y_val_pred_nn),\n",
    "    \"Train R2\": r2_score(y_train, y_train_pred_nn),\n",
    "    \"Validation R2\": r2_score(y_val, y_val_pred_nn),\n",
    "}\n",
    "\n",
    "print(\"\\nNeural Network Metrics:\")\n",
    "for metric, value in nn_metrics.items():\n",
    "    print(f\"{metric}: {value:.4f}\")\n",
    "\n",
    "# Save the Neural Network model\n",
    "nn_model_path = 'nn_model.h5'\n",
    "nn_model.save(nn_model_path)\n",
    "print(f\"\\nNeural Network model saved to {nn_model_path}\")\n"
   ]
  },
  {
   "cell_type": "code",
   "execution_count": 36,
   "metadata": {},
   "outputs": [
    {
     "name": "stdout",
     "output_type": "stream",
     "text": [
      "\n",
      "Best XGBoost Parameters: {'n_estimators': 150, 'max_depth': 3, 'learning_rate': 0.2, 'subsample': 1.0}\n",
      "Best XGBoost Metrics: {'RMSE': 32.01183363795498, 'MAE': 19.60444924897946, 'R2': 0.47350667948243574}\n"
     ]
    },
    {
     "name": "stderr",
     "output_type": "stream",
     "text": [
      "c:\\Users\\hit k\\anaconda3\\envs\\bia\\lib\\site-packages\\keras\\src\\layers\\core\\dense.py:87: UserWarning: Do not pass an `input_shape`/`input_dim` argument to a layer. When using Sequential models, prefer using an `Input(shape)` object as the first layer in the model instead.\n",
      "  super().__init__(activity_regularizer=activity_regularizer, **kwargs)\n"
     ]
    },
    {
     "name": "stdout",
     "output_type": "stream",
     "text": [
      "\u001b[1m5/5\u001b[0m \u001b[32m━━━━━━━━━━━━━━━━━━━━\u001b[0m\u001b[37m\u001b[0m \u001b[1m0s\u001b[0m 8ms/step \n"
     ]
    },
    {
     "name": "stderr",
     "output_type": "stream",
     "text": [
      "c:\\Users\\hit k\\anaconda3\\envs\\bia\\lib\\site-packages\\keras\\src\\layers\\core\\dense.py:87: UserWarning: Do not pass an `input_shape`/`input_dim` argument to a layer. When using Sequential models, prefer using an `Input(shape)` object as the first layer in the model instead.\n",
      "  super().__init__(activity_regularizer=activity_regularizer, **kwargs)\n"
     ]
    },
    {
     "name": "stdout",
     "output_type": "stream",
     "text": [
      "\u001b[1m5/5\u001b[0m \u001b[32m━━━━━━━━━━━━━━━━━━━━\u001b[0m\u001b[37m\u001b[0m \u001b[1m0s\u001b[0m 8ms/step \n"
     ]
    },
    {
     "name": "stderr",
     "output_type": "stream",
     "text": [
      "c:\\Users\\hit k\\anaconda3\\envs\\bia\\lib\\site-packages\\keras\\src\\layers\\core\\dense.py:87: UserWarning: Do not pass an `input_shape`/`input_dim` argument to a layer. When using Sequential models, prefer using an `Input(shape)` object as the first layer in the model instead.\n",
      "  super().__init__(activity_regularizer=activity_regularizer, **kwargs)\n"
     ]
    },
    {
     "name": "stdout",
     "output_type": "stream",
     "text": [
      "\u001b[1m5/5\u001b[0m \u001b[32m━━━━━━━━━━━━━━━━━━━━\u001b[0m\u001b[37m\u001b[0m \u001b[1m0s\u001b[0m 9ms/step \n"
     ]
    },
    {
     "name": "stderr",
     "output_type": "stream",
     "text": [
      "c:\\Users\\hit k\\anaconda3\\envs\\bia\\lib\\site-packages\\keras\\src\\layers\\core\\dense.py:87: UserWarning: Do not pass an `input_shape`/`input_dim` argument to a layer. When using Sequential models, prefer using an `Input(shape)` object as the first layer in the model instead.\n",
      "  super().__init__(activity_regularizer=activity_regularizer, **kwargs)\n"
     ]
    },
    {
     "name": "stdout",
     "output_type": "stream",
     "text": [
      "\u001b[1m5/5\u001b[0m \u001b[32m━━━━━━━━━━━━━━━━━━━━\u001b[0m\u001b[37m\u001b[0m \u001b[1m0s\u001b[0m 8ms/step \n"
     ]
    },
    {
     "name": "stderr",
     "output_type": "stream",
     "text": [
      "c:\\Users\\hit k\\anaconda3\\envs\\bia\\lib\\site-packages\\keras\\src\\layers\\core\\dense.py:87: UserWarning: Do not pass an `input_shape`/`input_dim` argument to a layer. When using Sequential models, prefer using an `Input(shape)` object as the first layer in the model instead.\n",
      "  super().__init__(activity_regularizer=activity_regularizer, **kwargs)\n"
     ]
    },
    {
     "name": "stdout",
     "output_type": "stream",
     "text": [
      "\u001b[1m5/5\u001b[0m \u001b[32m━━━━━━━━━━━━━━━━━━━━\u001b[0m\u001b[37m\u001b[0m \u001b[1m0s\u001b[0m 8ms/step \n"
     ]
    },
    {
     "name": "stderr",
     "output_type": "stream",
     "text": [
      "c:\\Users\\hit k\\anaconda3\\envs\\bia\\lib\\site-packages\\keras\\src\\layers\\core\\dense.py:87: UserWarning: Do not pass an `input_shape`/`input_dim` argument to a layer. When using Sequential models, prefer using an `Input(shape)` object as the first layer in the model instead.\n",
      "  super().__init__(activity_regularizer=activity_regularizer, **kwargs)\n"
     ]
    },
    {
     "name": "stdout",
     "output_type": "stream",
     "text": [
      "\u001b[1m5/5\u001b[0m \u001b[32m━━━━━━━━━━━━━━━━━━━━\u001b[0m\u001b[37m\u001b[0m \u001b[1m0s\u001b[0m 10ms/step\n"
     ]
    },
    {
     "name": "stderr",
     "output_type": "stream",
     "text": [
      "c:\\Users\\hit k\\anaconda3\\envs\\bia\\lib\\site-packages\\keras\\src\\layers\\core\\dense.py:87: UserWarning: Do not pass an `input_shape`/`input_dim` argument to a layer. When using Sequential models, prefer using an `Input(shape)` object as the first layer in the model instead.\n",
      "  super().__init__(activity_regularizer=activity_regularizer, **kwargs)\n"
     ]
    },
    {
     "name": "stdout",
     "output_type": "stream",
     "text": [
      "\u001b[1m5/5\u001b[0m \u001b[32m━━━━━━━━━━━━━━━━━━━━\u001b[0m\u001b[37m\u001b[0m \u001b[1m0s\u001b[0m 9ms/step \n"
     ]
    },
    {
     "name": "stderr",
     "output_type": "stream",
     "text": [
      "c:\\Users\\hit k\\anaconda3\\envs\\bia\\lib\\site-packages\\keras\\src\\layers\\core\\dense.py:87: UserWarning: Do not pass an `input_shape`/`input_dim` argument to a layer. When using Sequential models, prefer using an `Input(shape)` object as the first layer in the model instead.\n",
      "  super().__init__(activity_regularizer=activity_regularizer, **kwargs)\n"
     ]
    },
    {
     "name": "stdout",
     "output_type": "stream",
     "text": [
      "\u001b[1m5/5\u001b[0m \u001b[32m━━━━━━━━━━━━━━━━━━━━\u001b[0m\u001b[37m\u001b[0m \u001b[1m0s\u001b[0m 8ms/step \n"
     ]
    },
    {
     "name": "stderr",
     "output_type": "stream",
     "text": [
      "c:\\Users\\hit k\\anaconda3\\envs\\bia\\lib\\site-packages\\keras\\src\\layers\\core\\dense.py:87: UserWarning: Do not pass an `input_shape`/`input_dim` argument to a layer. When using Sequential models, prefer using an `Input(shape)` object as the first layer in the model instead.\n",
      "  super().__init__(activity_regularizer=activity_regularizer, **kwargs)\n"
     ]
    },
    {
     "name": "stdout",
     "output_type": "stream",
     "text": [
      "\u001b[1m5/5\u001b[0m \u001b[32m━━━━━━━━━━━━━━━━━━━━\u001b[0m\u001b[37m\u001b[0m \u001b[1m0s\u001b[0m 9ms/step \n"
     ]
    },
    {
     "name": "stderr",
     "output_type": "stream",
     "text": [
      "c:\\Users\\hit k\\anaconda3\\envs\\bia\\lib\\site-packages\\keras\\src\\layers\\core\\dense.py:87: UserWarning: Do not pass an `input_shape`/`input_dim` argument to a layer. When using Sequential models, prefer using an `Input(shape)` object as the first layer in the model instead.\n",
      "  super().__init__(activity_regularizer=activity_regularizer, **kwargs)\n"
     ]
    },
    {
     "name": "stdout",
     "output_type": "stream",
     "text": [
      "\u001b[1m5/5\u001b[0m \u001b[32m━━━━━━━━━━━━━━━━━━━━\u001b[0m\u001b[37m\u001b[0m \u001b[1m0s\u001b[0m 10ms/step\n"
     ]
    },
    {
     "name": "stderr",
     "output_type": "stream",
     "text": [
      "c:\\Users\\hit k\\anaconda3\\envs\\bia\\lib\\site-packages\\keras\\src\\layers\\core\\dense.py:87: UserWarning: Do not pass an `input_shape`/`input_dim` argument to a layer. When using Sequential models, prefer using an `Input(shape)` object as the first layer in the model instead.\n",
      "  super().__init__(activity_regularizer=activity_regularizer, **kwargs)\n"
     ]
    },
    {
     "name": "stdout",
     "output_type": "stream",
     "text": [
      "\u001b[1m5/5\u001b[0m \u001b[32m━━━━━━━━━━━━━━━━━━━━\u001b[0m\u001b[37m\u001b[0m \u001b[1m0s\u001b[0m 9ms/step \n"
     ]
    },
    {
     "name": "stderr",
     "output_type": "stream",
     "text": [
      "c:\\Users\\hit k\\anaconda3\\envs\\bia\\lib\\site-packages\\keras\\src\\layers\\core\\dense.py:87: UserWarning: Do not pass an `input_shape`/`input_dim` argument to a layer. When using Sequential models, prefer using an `Input(shape)` object as the first layer in the model instead.\n",
      "  super().__init__(activity_regularizer=activity_regularizer, **kwargs)\n"
     ]
    },
    {
     "name": "stdout",
     "output_type": "stream",
     "text": [
      "\u001b[1m5/5\u001b[0m \u001b[32m━━━━━━━━━━━━━━━━━━━━\u001b[0m\u001b[37m\u001b[0m \u001b[1m0s\u001b[0m 10ms/step\n"
     ]
    },
    {
     "name": "stderr",
     "output_type": "stream",
     "text": [
      "c:\\Users\\hit k\\anaconda3\\envs\\bia\\lib\\site-packages\\keras\\src\\layers\\core\\dense.py:87: UserWarning: Do not pass an `input_shape`/`input_dim` argument to a layer. When using Sequential models, prefer using an `Input(shape)` object as the first layer in the model instead.\n",
      "  super().__init__(activity_regularizer=activity_regularizer, **kwargs)\n"
     ]
    },
    {
     "name": "stdout",
     "output_type": "stream",
     "text": [
      "\u001b[1m5/5\u001b[0m \u001b[32m━━━━━━━━━━━━━━━━━━━━\u001b[0m\u001b[37m\u001b[0m \u001b[1m0s\u001b[0m 8ms/step \n"
     ]
    },
    {
     "name": "stderr",
     "output_type": "stream",
     "text": [
      "c:\\Users\\hit k\\anaconda3\\envs\\bia\\lib\\site-packages\\keras\\src\\layers\\core\\dense.py:87: UserWarning: Do not pass an `input_shape`/`input_dim` argument to a layer. When using Sequential models, prefer using an `Input(shape)` object as the first layer in the model instead.\n",
      "  super().__init__(activity_regularizer=activity_regularizer, **kwargs)\n"
     ]
    },
    {
     "name": "stdout",
     "output_type": "stream",
     "text": [
      "\u001b[1m5/5\u001b[0m \u001b[32m━━━━━━━━━━━━━━━━━━━━\u001b[0m\u001b[37m\u001b[0m \u001b[1m0s\u001b[0m 10ms/step\n"
     ]
    },
    {
     "name": "stderr",
     "output_type": "stream",
     "text": [
      "c:\\Users\\hit k\\anaconda3\\envs\\bia\\lib\\site-packages\\keras\\src\\layers\\core\\dense.py:87: UserWarning: Do not pass an `input_shape`/`input_dim` argument to a layer. When using Sequential models, prefer using an `Input(shape)` object as the first layer in the model instead.\n",
      "  super().__init__(activity_regularizer=activity_regularizer, **kwargs)\n"
     ]
    },
    {
     "name": "stdout",
     "output_type": "stream",
     "text": [
      "\u001b[1m5/5\u001b[0m \u001b[32m━━━━━━━━━━━━━━━━━━━━\u001b[0m\u001b[37m\u001b[0m \u001b[1m0s\u001b[0m 10ms/step\n"
     ]
    },
    {
     "name": "stderr",
     "output_type": "stream",
     "text": [
      "c:\\Users\\hit k\\anaconda3\\envs\\bia\\lib\\site-packages\\keras\\src\\layers\\core\\dense.py:87: UserWarning: Do not pass an `input_shape`/`input_dim` argument to a layer. When using Sequential models, prefer using an `Input(shape)` object as the first layer in the model instead.\n",
      "  super().__init__(activity_regularizer=activity_regularizer, **kwargs)\n"
     ]
    },
    {
     "name": "stdout",
     "output_type": "stream",
     "text": [
      "\u001b[1m5/5\u001b[0m \u001b[32m━━━━━━━━━━━━━━━━━━━━\u001b[0m\u001b[37m\u001b[0m \u001b[1m0s\u001b[0m 8ms/step \n"
     ]
    },
    {
     "name": "stderr",
     "output_type": "stream",
     "text": [
      "c:\\Users\\hit k\\anaconda3\\envs\\bia\\lib\\site-packages\\keras\\src\\layers\\core\\dense.py:87: UserWarning: Do not pass an `input_shape`/`input_dim` argument to a layer. When using Sequential models, prefer using an `Input(shape)` object as the first layer in the model instead.\n",
      "  super().__init__(activity_regularizer=activity_regularizer, **kwargs)\n"
     ]
    },
    {
     "name": "stdout",
     "output_type": "stream",
     "text": [
      "\u001b[1m5/5\u001b[0m \u001b[32m━━━━━━━━━━━━━━━━━━━━\u001b[0m\u001b[37m\u001b[0m \u001b[1m0s\u001b[0m 8ms/step \n"
     ]
    },
    {
     "name": "stderr",
     "output_type": "stream",
     "text": [
      "c:\\Users\\hit k\\anaconda3\\envs\\bia\\lib\\site-packages\\keras\\src\\layers\\core\\dense.py:87: UserWarning: Do not pass an `input_shape`/`input_dim` argument to a layer. When using Sequential models, prefer using an `Input(shape)` object as the first layer in the model instead.\n",
      "  super().__init__(activity_regularizer=activity_regularizer, **kwargs)\n"
     ]
    },
    {
     "name": "stdout",
     "output_type": "stream",
     "text": [
      "\u001b[1m5/5\u001b[0m \u001b[32m━━━━━━━━━━━━━━━━━━━━\u001b[0m\u001b[37m\u001b[0m \u001b[1m0s\u001b[0m 8ms/step \n"
     ]
    },
    {
     "name": "stderr",
     "output_type": "stream",
     "text": [
      "c:\\Users\\hit k\\anaconda3\\envs\\bia\\lib\\site-packages\\keras\\src\\layers\\core\\dense.py:87: UserWarning: Do not pass an `input_shape`/`input_dim` argument to a layer. When using Sequential models, prefer using an `Input(shape)` object as the first layer in the model instead.\n",
      "  super().__init__(activity_regularizer=activity_regularizer, **kwargs)\n"
     ]
    },
    {
     "name": "stdout",
     "output_type": "stream",
     "text": [
      "\u001b[1m5/5\u001b[0m \u001b[32m━━━━━━━━━━━━━━━━━━━━\u001b[0m\u001b[37m\u001b[0m \u001b[1m0s\u001b[0m 10ms/step\n"
     ]
    },
    {
     "name": "stderr",
     "output_type": "stream",
     "text": [
      "c:\\Users\\hit k\\anaconda3\\envs\\bia\\lib\\site-packages\\keras\\src\\layers\\core\\dense.py:87: UserWarning: Do not pass an `input_shape`/`input_dim` argument to a layer. When using Sequential models, prefer using an `Input(shape)` object as the first layer in the model instead.\n",
      "  super().__init__(activity_regularizer=activity_regularizer, **kwargs)\n"
     ]
    },
    {
     "name": "stdout",
     "output_type": "stream",
     "text": [
      "\u001b[1m5/5\u001b[0m \u001b[32m━━━━━━━━━━━━━━━━━━━━\u001b[0m\u001b[37m\u001b[0m \u001b[1m0s\u001b[0m 8ms/step \n"
     ]
    },
    {
     "name": "stderr",
     "output_type": "stream",
     "text": [
      "c:\\Users\\hit k\\anaconda3\\envs\\bia\\lib\\site-packages\\keras\\src\\layers\\core\\dense.py:87: UserWarning: Do not pass an `input_shape`/`input_dim` argument to a layer. When using Sequential models, prefer using an `Input(shape)` object as the first layer in the model instead.\n",
      "  super().__init__(activity_regularizer=activity_regularizer, **kwargs)\n"
     ]
    },
    {
     "name": "stdout",
     "output_type": "stream",
     "text": [
      "\u001b[1m5/5\u001b[0m \u001b[32m━━━━━━━━━━━━━━━━━━━━\u001b[0m\u001b[37m\u001b[0m \u001b[1m0s\u001b[0m 8ms/step \n"
     ]
    },
    {
     "name": "stderr",
     "output_type": "stream",
     "text": [
      "c:\\Users\\hit k\\anaconda3\\envs\\bia\\lib\\site-packages\\keras\\src\\layers\\core\\dense.py:87: UserWarning: Do not pass an `input_shape`/`input_dim` argument to a layer. When using Sequential models, prefer using an `Input(shape)` object as the first layer in the model instead.\n",
      "  super().__init__(activity_regularizer=activity_regularizer, **kwargs)\n"
     ]
    },
    {
     "name": "stdout",
     "output_type": "stream",
     "text": [
      "\u001b[1m5/5\u001b[0m \u001b[32m━━━━━━━━━━━━━━━━━━━━\u001b[0m\u001b[37m\u001b[0m \u001b[1m0s\u001b[0m 8ms/step \n"
     ]
    },
    {
     "name": "stderr",
     "output_type": "stream",
     "text": [
      "c:\\Users\\hit k\\anaconda3\\envs\\bia\\lib\\site-packages\\keras\\src\\layers\\core\\dense.py:87: UserWarning: Do not pass an `input_shape`/`input_dim` argument to a layer. When using Sequential models, prefer using an `Input(shape)` object as the first layer in the model instead.\n",
      "  super().__init__(activity_regularizer=activity_regularizer, **kwargs)\n"
     ]
    },
    {
     "name": "stdout",
     "output_type": "stream",
     "text": [
      "\u001b[1m5/5\u001b[0m \u001b[32m━━━━━━━━━━━━━━━━━━━━\u001b[0m\u001b[37m\u001b[0m \u001b[1m0s\u001b[0m 10ms/step\n"
     ]
    },
    {
     "name": "stderr",
     "output_type": "stream",
     "text": [
      "c:\\Users\\hit k\\anaconda3\\envs\\bia\\lib\\site-packages\\keras\\src\\layers\\core\\dense.py:87: UserWarning: Do not pass an `input_shape`/`input_dim` argument to a layer. When using Sequential models, prefer using an `Input(shape)` object as the first layer in the model instead.\n",
      "  super().__init__(activity_regularizer=activity_regularizer, **kwargs)\n"
     ]
    },
    {
     "name": "stdout",
     "output_type": "stream",
     "text": [
      "\u001b[1m5/5\u001b[0m \u001b[32m━━━━━━━━━━━━━━━━━━━━\u001b[0m\u001b[37m\u001b[0m \u001b[1m0s\u001b[0m 6ms/step \n",
      "\n",
      "Best Neural Network Parameters: {'optimizer': 'rmsprop', 'dropout_rate': 0.2, 'epochs': 100, 'batch_size': 16}\n",
      "Best Neural Network Metrics: {'RMSE': 15.041509389587171, 'MAE': 12.08120944838484, 'R2': 0.8837602675754007}\n",
      "\n",
      "XGBoost Test Metrics: {'RMSE': 51.49617691138273, 'MAE': 30.598358002604915, 'R2': 0.6765715123990337}\n",
      "\u001b[1m5/5\u001b[0m \u001b[32m━━━━━━━━━━━━━━━━━━━━\u001b[0m\u001b[37m\u001b[0m \u001b[1m0s\u001b[0m 4ms/step \n"
     ]
    },
    {
     "name": "stderr",
     "output_type": "stream",
     "text": [
      "WARNING:absl:You are saving your model as an HDF5 file via `model.save()` or `keras.saving.save_model(model)`. This file format is considered legacy. We recommend using instead the native Keras format, e.g. `model.save('my_model.keras')` or `keras.saving.save_model(model, 'my_model.keras')`. \n"
     ]
    },
    {
     "name": "stdout",
     "output_type": "stream",
     "text": [
      "\n",
      "Neural Network Test Metrics: {'RMSE': 24.216973811284316, 'MAE': 16.17150673047112, 'R2': 0.9284733248149548}\n",
      "\n",
      "Tuned XGBoost model saved to best_xgb_model.joblib\n",
      "Tuned Neural Network model saved to best_nn_model.h5\n"
     ]
    }
   ],
   "source": [
    "import numpy as np\n",
    "from xgboost import XGBRegressor\n",
    "import tensorflow as tf\n",
    "from sklearn.metrics import mean_squared_error, mean_absolute_error, r2_score\n",
    "\n",
    "# --- Function to Evaluate Models ---\n",
    "def evaluate_model(y_true, y_pred):\n",
    "    metrics = {\n",
    "        \"RMSE\": mean_squared_error(y_true, y_pred)**0.5,\n",
    "        \"MAE\": mean_absolute_error(y_true, y_pred),\n",
    "        \"R2\": r2_score(y_true, y_pred),\n",
    "    }\n",
    "    return metrics\n",
    "\n",
    "# --- Manual Hyperparameter Tuning for XGBoost ---\n",
    "xgb_hyperparameters = {\n",
    "    'n_estimators': [50, 100, 150],\n",
    "    'max_depth': [3, 5, 7],\n",
    "    'learning_rate': [0.01, 0.1, 0.2],\n",
    "    'subsample': [0.8, 1.0]\n",
    "}\n",
    "\n",
    "best_xgb_model = None\n",
    "best_xgb_metrics = None\n",
    "best_xgb_params = None\n",
    "lowest_rmse = float('inf')\n",
    "\n",
    "for n_estimators in xgb_hyperparameters['n_estimators']:\n",
    "    for max_depth in xgb_hyperparameters['max_depth']:\n",
    "        for learning_rate in xgb_hyperparameters['learning_rate']:\n",
    "            for subsample in xgb_hyperparameters['subsample']:\n",
    "                # Train XGBRegressor\n",
    "                model = XGBRegressor(\n",
    "                    n_estimators=n_estimators, \n",
    "                    max_depth=max_depth, \n",
    "                    learning_rate=learning_rate, \n",
    "                    subsample=subsample, \n",
    "                    random_state=42\n",
    "                )\n",
    "                model.fit(X_train, y_train)\n",
    "                y_val_pred = model.predict(X_val)\n",
    "                metrics = evaluate_model(y_val, y_val_pred)\n",
    "                if metrics[\"RMSE\"] < lowest_rmse:\n",
    "                    lowest_rmse = metrics[\"RMSE\"]\n",
    "                    best_xgb_model = model\n",
    "                    best_xgb_metrics = metrics\n",
    "                    best_xgb_params = {\n",
    "                        \"n_estimators\": n_estimators,\n",
    "                        \"max_depth\": max_depth,\n",
    "                        \"learning_rate\": learning_rate,\n",
    "                        \"subsample\": subsample\n",
    "                    }\n",
    "\n",
    "print(\"\\nBest XGBoost Parameters:\", best_xgb_params)\n",
    "print(\"Best XGBoost Metrics:\", best_xgb_metrics)\n",
    "\n",
    "# --- Manual Hyperparameter Tuning for Neural Network ---\n",
    "def create_nn_model(optimizer='adam', dropout_rate=0.2):\n",
    "    model = tf.keras.Sequential([\n",
    "        tf.keras.layers.Dense(64, activation='relu', input_dim=X_train.shape[1]),\n",
    "        tf.keras.layers.Dropout(dropout_rate),\n",
    "        tf.keras.layers.Dense(32, activation='relu'),\n",
    "        tf.keras.layers.Dropout(dropout_rate),\n",
    "        tf.keras.layers.Dense(1)\n",
    "    ])\n",
    "    model.compile(optimizer=optimizer, loss='mse', metrics=['mae'])\n",
    "    return model\n",
    "\n",
    "nn_hyperparameters = {\n",
    "    'optimizer': ['adam', 'rmsprop'],\n",
    "    'dropout_rate': [0.2, 0.3, 0.4],\n",
    "    'epochs': [50, 100],\n",
    "    'batch_size': [16, 32]\n",
    "}\n",
    "\n",
    "best_nn_model = None\n",
    "best_nn_metrics = None\n",
    "best_nn_params = None\n",
    "lowest_nn_rmse = float('inf')\n",
    "\n",
    "for optimizer in nn_hyperparameters['optimizer']:\n",
    "    for dropout_rate in nn_hyperparameters['dropout_rate']:\n",
    "        for epochs in nn_hyperparameters['epochs']:\n",
    "            for batch_size in nn_hyperparameters['batch_size']:\n",
    "                model = create_nn_model(optimizer=optimizer, dropout_rate=dropout_rate)\n",
    "                history = model.fit(\n",
    "                    X_train, y_train,\n",
    "                    validation_data=(X_val, y_val),\n",
    "                    epochs=epochs,\n",
    "                    batch_size=batch_size,\n",
    "                    verbose=0\n",
    "                )\n",
    "                y_val_pred = model.predict(X_val).flatten()\n",
    "                metrics = evaluate_model(y_val, y_val_pred)\n",
    "                if metrics[\"RMSE\"] < lowest_nn_rmse:\n",
    "                    lowest_nn_rmse = metrics[\"RMSE\"]\n",
    "                    best_nn_model = model\n",
    "                    best_nn_metrics = metrics\n",
    "                    best_nn_params = {\n",
    "                        \"optimizer\": optimizer,\n",
    "                        \"dropout_rate\": dropout_rate,\n",
    "                        \"epochs\": epochs,\n",
    "                        \"batch_size\": batch_size\n",
    "                    }\n",
    "\n",
    "print(\"\\nBest Neural Network Parameters:\", best_nn_params)\n",
    "print(\"Best Neural Network Metrics:\", best_nn_metrics)\n",
    "\n",
    "# --- Final Evaluation on Test Set ---\n",
    "# XGBoost\n",
    "y_test_pred_xgb = best_xgb_model.predict(X_test)\n",
    "xgb_test_metrics = evaluate_model(y_test, y_test_pred_xgb)\n",
    "print(\"\\nXGBoost Test Metrics:\", xgb_test_metrics)\n",
    "\n",
    "# Neural Network\n",
    "y_test_pred_nn = best_nn_model.predict(X_test).flatten()\n",
    "nn_test_metrics = evaluate_model(y_test, y_test_pred_nn)\n",
    "print(\"\\nNeural Network Test Metrics:\", nn_test_metrics)\n",
    "\n",
    "# --- Save the Models ---\n",
    "import joblib\n",
    "\n",
    "best_xgb_model_path = 'best_xgb_model.joblib'\n",
    "best_nn_model_path = 'best_nn_model.h5'\n",
    "\n",
    "joblib.dump(best_xgb_model, best_xgb_model_path)\n",
    "best_nn_model.save(best_nn_model_path)\n",
    "\n",
    "print(f\"\\nTuned XGBoost model saved to {best_xgb_model_path}\")\n",
    "print(f\"Tuned Neural Network model saved to {best_nn_model_path}\")\n"
   ]
  },
  {
   "cell_type": "code",
   "execution_count": 37,
   "metadata": {},
   "outputs": [
    {
     "name": "stderr",
     "output_type": "stream",
     "text": [
      "WARNING:absl:Compiled the loaded model, but the compiled metrics have yet to be built. `model.compile_metrics` will be empty until you train or evaluate the model.\n"
     ]
    },
    {
     "name": "stdout",
     "output_type": "stream",
     "text": [
      "\n",
      "XGBoost Test Metrics:\n",
      "Test RMSE: 51.4962\n",
      "Test MAE: 30.5984\n",
      "Test R2: 0.6766\n",
      "\u001b[1m5/5\u001b[0m \u001b[32m━━━━━━━━━━━━━━━━━━━━\u001b[0m\u001b[37m\u001b[0m \u001b[1m0s\u001b[0m 10ms/step\n",
      "\n",
      "Neural Network Test Metrics:\n",
      "Test RMSE: 24.2170\n",
      "Test MAE: 16.1715\n",
      "Test R2: 0.9285\n",
      "\n",
      "Final evaluation metrics saved to final_evaluation_metrics.json\n",
      "\n",
      "Preprocessing script saved to preprocessing_script.py\n"
     ]
    }
   ],
   "source": [
    "from sklearn.metrics import mean_squared_error, mean_absolute_error, r2_score\n",
    "import joblib\n",
    "import tensorflow as tf\n",
    "from tensorflow.keras.losses import MeanSquaredError\n",
    "import json\n",
    "\n",
    "# Load the tuned models\n",
    "# Explicitly handle the custom 'mse' loss function when loading the neural network model\n",
    "best_xgb_model = joblib.load('best_xgb_model.joblib')\n",
    "best_nn_model = tf.keras.models.load_model(\n",
    "    'best_nn_model.h5',\n",
    "    custom_objects={'mse': MeanSquaredError()}\n",
    ")\n",
    "\n",
    "# Evaluate the models on the test set\n",
    "def final_evaluation(model, X_test, y_test):\n",
    "    y_test_pred = model.predict(X_test)\n",
    "    metrics = {\n",
    "        \"Test RMSE\": mean_squared_error(y_test, y_test_pred)**0.5,\n",
    "        \"Test MAE\": mean_absolute_error(y_test, y_test_pred),\n",
    "        \"Test R2\": r2_score(y_test, y_test_pred),\n",
    "    }\n",
    "    return metrics\n",
    "\n",
    "# XGBoost Final Evaluation\n",
    "xgb_test_metrics = final_evaluation(best_xgb_model, X_test, y_test)\n",
    "print(\"\\nXGBoost Test Metrics:\")\n",
    "for metric, value in xgb_test_metrics.items():\n",
    "    print(f\"{metric}: {value:.4f}\")\n",
    "\n",
    "# Neural Network Final Evaluation\n",
    "y_test_pred_nn = best_nn_model.predict(X_test).flatten()\n",
    "nn_test_metrics = {\n",
    "    \"Test RMSE\": mean_squared_error(y_test, y_test_pred_nn)**0.5,\n",
    "    \"Test MAE\": mean_absolute_error(y_test, y_test_pred_nn),\n",
    "    \"Test R2\": r2_score(y_test, y_test_pred_nn),\n",
    "}\n",
    "\n",
    "print(\"\\nNeural Network Test Metrics:\")\n",
    "for metric, value in nn_test_metrics.items():\n",
    "    print(f\"{metric}: {value:.4f}\")\n",
    "\n",
    "# Deployment Preparation\n",
    "# Save the final evaluation metrics to a JSON file\n",
    "evaluation_metrics = {\n",
    "    \"XGBoost\": xgb_test_metrics,\n",
    "    \"Neural Network\": nn_test_metrics,\n",
    "}\n",
    "\n",
    "evaluation_metrics_path = 'final_evaluation_metrics.json'\n",
    "with open(evaluation_metrics_path, 'w') as f:\n",
    "    json.dump(evaluation_metrics, f)\n",
    "\n",
    "print(f\"\\nFinal evaluation metrics saved to {evaluation_metrics_path}\")\n",
    "\n",
    "# Save a preprocessing script for deployment\n",
    "preprocessing_script_path = 'preprocessing_script.py'\n",
    "with open(preprocessing_script_path, 'w') as f:\n",
    "    f.write(\"\"\"\n",
    "import pandas as pd\n",
    "import numpy as np\n",
    "\n",
    "def preprocess_data(data):\n",
    "    # Advanced Feature Engineering\n",
    "    data['price_per_gram'] = data['unit_price'] / data['product_weight_g']\n",
    "    data['freight_per_unit'] = data['freight_price'] / (data['qty'] + 1e-5)\n",
    "    data['price_to_total'] = data['unit_price'] / (data['total_price'] + 1e-5)\n",
    "    data['qty_to_weight'] = data['qty'] / (data['product_weight_g'] + 1e-5)\n",
    "    data['comp_1_diff'] = data['unit_price'] - data['comp_1']\n",
    "    data['comp_2_diff'] = data['unit_price'] - data['comp_2']\n",
    "    data['comp_3_diff'] = data['unit_price'] - data['comp_3']\n",
    "    data['comp_1_score_weighted'] = data['ps1'] / (data['comp_1'] + 1e-5)\n",
    "    data['comp_2_score_weighted'] = data['ps2'] / (data['comp_2'] + 1e-5)\n",
    "    data['comp_3_score_weighted'] = data['ps3'] / (data['comp_3'] + 1e-5)\n",
    "    data['is_weekend'] = ((data['weekday'] == 0) & (data['weekend'] > 0)).astype(int)\n",
    "    data['is_holiday'] = (data['holiday'] > 0).astype(int)\n",
    "    data['name_desc_ratio'] = data['product_name_lenght'] / (data['product_description_lenght'] + 1e-5)\n",
    "    data['photos_per_unit'] = data['product_photos_qty'] / (data['qty'] + 1e-5)\n",
    "    skewed_features = ['qty', 'total_price', 'freight_price', 'product_weight_g', 's', 'volume']\n",
    "    for feature in skewed_features:\n",
    "        data[f'log_{feature}'] = np.log1p(data[feature])\n",
    "    return data\n",
    "    \"\"\")\n",
    "\n",
    "print(f\"\\nPreprocessing script saved to {preprocessing_script_path}\")\n"
   ]
  },
  {
   "cell_type": "code",
   "execution_count": 45,
   "metadata": {},
   "outputs": [
    {
     "name": "stdout",
     "output_type": "stream",
     "text": [
      "\u001b[1m5/5\u001b[0m \u001b[32m━━━━━━━━━━━━━━━━━━━━\u001b[0m\u001b[37m\u001b[0m \u001b[1m0s\u001b[0m 6ms/step \n"
     ]
    },
    {
     "name": "stderr",
     "output_type": "stream",
     "text": [
      "C:\\Users\\hit k\\AppData\\Local\\Temp\\ipykernel_3580\\1298425211.py:13: UserWarning: color is redundantly defined by the 'color' keyword argument and the fmt string \"k--\" (-> color='k'). The keyword argument will take precedence.\n",
      "  plt.plot([y_test.min(), y_test.max()], [y_test.min(), y_test.max()], 'k--', color='red', label='Ideal Fit')\n",
      "C:\\Users\\hit k\\AppData\\Local\\Temp\\ipykernel_3580\\1298425211.py:23: UserWarning: color is redundantly defined by the 'color' keyword argument and the fmt string \"k--\" (-> color='k'). The keyword argument will take precedence.\n",
      "  plt.plot([y_test.min(), y_test.max()], [y_test.min(), y_test.max()], 'k--', color='red', label='Ideal Fit')\n"
     ]
    },
    {
     "data": {
      "image/png": "[encoded data removed]",
      "text/plain": [
       "<Figure size 1600x800 with 2 Axes>"
      ]
     },
     "metadata": {},
     "output_type": "display_data"
    },
    {
     "data": {
      "image/png": "[encoded data removed]",
      "text/plain": [
       "<Figure size 1200x600 with 1 Axes>"
      ]
     },
     "metadata": {},
     "output_type": "display_data"
    }
   ],
   "source": [
    "import matplotlib.pyplot as plt\n",
    "\n",
    "# Make predictions on the test set\n",
    "y_test_pred_xgb = best_xgb_model.predict(X_test)\n",
    "y_test_pred_nn = best_nn_model.predict(X_test).flatten()\n",
    "\n",
    "# Plot the real vs. predicted values for both models\n",
    "plt.figure(figsize=(16, 8))\n",
    "\n",
    "# Subplot 1: XGBoost\n",
    "plt.subplot(1, 2, 1)\n",
    "plt.scatter(y_test, y_test_pred_xgb, alpha=0.6, color='blue', label='XGBoost Predictions')\n",
    "plt.plot([y_test.min(), y_test.max()], [y_test.min(), y_test.max()], 'k--', color='red', label='Ideal Fit')\n",
    "plt.xlabel('Actual Values')\n",
    "plt.ylabel('Predicted Values')\n",
    "plt.title('XGBoost: Actual vs Predicted')\n",
    "plt.legend()\n",
    "plt.grid()\n",
    "\n",
    "# Subplot 2: Neural Network\n",
    "plt.subplot(1, 2, 2)\n",
    "plt.scatter(y_test, y_test_pred_nn, alpha=0.6, color='green', label='NN Predictions')\n",
    "plt.plot([y_test.min(), y_test.max()], [y_test.min(), y_test.max()], 'k--', color='red', label='Ideal Fit')\n",
    "plt.xlabel('Actual Values')\n",
    "plt.ylabel('Predicted Values')\n",
    "plt.title('Neural Network: Actual vs Predicted')\n",
    "plt.legend()\n",
    "plt.grid()\n",
    "\n",
    "plt.tight_layout()\n",
    "plt.show()\n",
    "\n",
    "# Combined Line Chart for Model Performance\n",
    "plt.figure(figsize=(12, 6))\n",
    "\n",
    "plt.plot(y_test.values[:100], label=\"Actual Values\", marker='o', linestyle='-', color='black')\n",
    "plt.plot(y_test_pred_xgb[:100], label=\"XGBoost Predictions\", marker='x', linestyle='--', color='blue')\n",
    "plt.plot(y_test_pred_nn[:100], label=\"NN Predictions\", marker='s', linestyle=':', color='green')\n",
    "\n",
    "plt.xlabel('Test Sample Index')\n",
    "plt.ylabel('Values')\n",
    "plt.title('Model Predictions vs Actual Values (First 100 Samples)')\n",
    "plt.legend()\n",
    "plt.grid()\n",
    "plt.show()\n"
   ]
  }
 ],
 "metadata": {
  "kernelspec": {
   "display_name": "bia",
   "language": "python",
   "name": "python3"
  },
  "language_info": {
   "codemirror_mode": {
    "name": "ipython",
    "version": 3
   },
   "file_extension": ".py",
   "mimetype": "text/x-python",
   "name": "python",
   "nbconvert_exporter": "python",
   "pygments_lexer": "ipython3",
   "version": "3.10.16"
  }
 },
 "nbformat": 4,
 "nbformat_minor": 2
}
